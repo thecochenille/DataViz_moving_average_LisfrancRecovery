{
 "cells": [
  {
   "cell_type": "code",
   "execution_count": null,
   "id": "87200318",
   "metadata": {},
   "outputs": [],
   "source": [
    "import pandas as pd\n",
    "import matplotlib.pyplot as plt\n",
    "import seaborn as sns"
   ]
  },
  {
   "cell_type": "markdown",
   "id": "8b298452",
   "metadata": {},
   "source": [
    "\n"
   ]
  },
  {
   "cell_type": "markdown",
   "id": "2f741719",
   "metadata": {},
   "source": [
    "# parsing xml data from iPhone Health app"
   ]
  },
  {
   "cell_type": "markdown",
   "id": "c4dbd896",
   "metadata": {},
   "source": []
  },
  {
   "cell_type": "code",
   "execution_count": null,
   "id": "6067c065",
   "metadata": {},
   "outputs": [],
   "source": [
    "# open data after it was parsed using"
   ]
  },
  {
   "cell_type": "code",
   "execution_count": null,
   "id": "6665289d",
   "metadata": {},
   "outputs": [],
   "source": []
  }
 ],
 "metadata": {
  "kernelspec": {
   "display_name": "Python 3 (ipykernel)",
   "language": "python",
   "name": "python3"
  },
  "language_info": {
   "codemirror_mode": {
    "name": "ipython",
    "version": 3
   },
   "file_extension": ".py",
   "mimetype": "text/x-python",
   "name": "python",
   "nbconvert_exporter": "python",
   "pygments_lexer": "ipython3",
   "version": "3.9.13"
  }
 },
 "nbformat": 4,
 "nbformat_minor": 5
}
